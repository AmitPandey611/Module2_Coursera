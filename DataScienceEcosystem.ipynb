{
 "cells": [
  {
   "cell_type": "markdown",
   "id": "0af96e12-363c-47ac-937b-e67e380d34ff",
   "metadata": {},
   "source": [
    "# Data Science Tools and Ecosystem"
   ]
  },
  {
   "cell_type": "markdown",
   "id": "745b450e-bcf3-4bb2-b7b7-921073090deb",
   "metadata": {},
   "source": [
    " In this notebook, Data Science Tools and Ecosystem are summarized."
   ]
  },
  {
   "cell_type": "markdown",
   "id": "2c855049-2ef4-4dc8-97c9-c0e34dea3eff",
   "metadata": {},
   "source": [
    "**Objectives:**\n",
    "* notebook\n",
    "* R\n",
    "* RStudio\n"
   ]
  },
  {
   "cell_type": "markdown",
   "id": "bfd73972-7944-4725-972b-ceea5629db9b",
   "metadata": {},
   "source": [
    "# Some of the popular languages that Data Scientists use are:\n",
    "1. R\n",
    "2. Python\n",
    "3. SQL\n",
    "4. Julia\n",
    "5. java"
   ]
  },
  {
   "cell_type": "markdown",
   "id": "d13a112c-1c50-4771-9f42-a95d06ac5e7f",
   "metadata": {},
   "source": [
    "# Some of the commonly used libraries used by Data Scientists include:\n",
    "1. NumPy\n",
    "2. Pytorch\n",
    "3. Seaborn\n",
    "4. Plotly\n",
    "5. Tensorflow"
   ]
  },
  {
   "cell_type": "markdown",
   "id": "d8fb8133-c499-4ded-ac05-694f50da2db8",
   "metadata": {},
   "source": [
    "  |Data Science Tools |\n",
    "  |------------------ |\n",
    "  | Spark  |\n",
    "  | Hadoop |\n",
    "  | Pandas |"
   ]
  },
  {
   "cell_type": "markdown",
   "id": "a5b53186-06da-4346-ae0e-fa70387a17ac",
   "metadata": {
    "tags": []
   },
   "source": [
    "<h3> Below are a few examples of evaluating arithmetic expressions in Python: <h3>"
   ]
  },
  {
   "cell_type": "code",
   "execution_count": 5,
   "id": "31293b49-ea73-4e2d-ad28-f0b08c139c90",
   "metadata": {
    "tags": []
   },
   "outputs": [
    {
     "data": {
      "text/plain": [
       "17"
      ]
     },
     "execution_count": 5,
     "metadata": {},
     "output_type": "execute_result"
    }
   ],
   "source": [
    "# This a simple arithmetic expression to mutiply then add integers\n",
    "(3*4)+5"
   ]
  },
  {
   "cell_type": "code",
   "execution_count": 9,
   "id": "235eb5ff-d3aa-4d97-8da3-dbcca7ddedaa",
   "metadata": {
    "tags": []
   },
   "outputs": [
    {
     "name": "stdout",
     "output_type": "stream",
     "text": [
      "3.3333333333333335\n"
     ]
    }
   ],
   "source": [
    "# This will convert 200 minutes to hours by diving by 60\n",
    "\n",
    "hours = 200/60\n",
    "print(hours)"
   ]
  },
  {
   "cell_type": "markdown",
   "id": "685833b2-884d-4cb0-955f-976241173590",
   "metadata": {
    "tags": []
   },
   "source": [
    "## Author ##\n",
    "Amit"
   ]
  },
  {
   "cell_type": "code",
   "execution_count": null,
   "id": "7b330723-5e28-415a-bdb5-37eaf8e86799",
   "metadata": {},
   "outputs": [],
   "source": []
  }
 ],
 "metadata": {
  "kernelspec": {
   "display_name": "Python",
   "language": "python",
   "name": "conda-env-python-py"
  },
  "language_info": {
   "codemirror_mode": {
    "name": "ipython",
    "version": 3
   },
   "file_extension": ".py",
   "mimetype": "text/x-python",
   "name": "python",
   "nbconvert_exporter": "python",
   "pygments_lexer": "ipython3",
   "version": "3.7.12"
  }
 },
 "nbformat": 4,
 "nbformat_minor": 5
}
